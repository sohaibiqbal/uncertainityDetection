{
  "nbformat": 4,
  "nbformat_minor": 0,
  "metadata": {
    "colab": {
      "provenance": []
    },
    "kernelspec": {
      "name": "python3",
      "display_name": "Python 3"
    },
    "language_info": {
      "name": "python"
    }
  },
  "cells": [
    {
      "cell_type": "markdown",
      "source": [
        "Fake Tweets about COVID 19 Vaccine Detection using Transformers"
      ],
      "metadata": {
        "id": "45o4nnpBD_9d"
      }
    },
    {
      "cell_type": "code",
      "execution_count": 206,
      "metadata": {
        "id": "7k8MRLF_kSMn"
      },
      "outputs": [],
      "source": [
        "import tensorflow as tf\n",
        "from tensorflow import keras\n",
        "from tensorflow.keras.layers import MultiHeadAttention, LayerNormalization, Dropout, Layer\n",
        "from tensorflow.keras.layers import Embedding, Input, GlobalAveragePooling1D, Dense\n",
        "from tensorflow.keras.datasets import imdb\n",
        "from tensorflow.keras.models import Sequential, Model\n",
        "import numpy as np\n",
        "import warnings\n",
        "import numpy as np\n",
        "import pandas as pd\n",
        "import matplotlib.pyplot as plt\n",
        "import seaborn as sns\n",
        "import nltk\n",
        "import re\n",
        "import tensorflow\n",
        "from wordcloud import WordCloud\n",
        "from tensorflow.keras.preprocessing.text import Tokenizer\n",
        "from tensorflow. keras .preprocessing.sequence import pad_sequences\n",
        "from tensorflow. keras.models import Sequential\n",
        "from tensorflow. keras. layers import Dense, Embedding, LSTM, Conv1D, MaxPool1D\n",
        "from sklearn.model_selection import train_test_split\n",
        "from sklearn.metrics import classification_report, accuracy_score\n",
        "warnings.filterwarnings(\"ignore\", category=np.VisibleDeprecationWarning)"
      ]
    },
    {
      "cell_type": "markdown",
      "source": [
        "Building Transformer"
      ],
      "metadata": {
        "id": "lGAXhMgDEUVN"
      }
    },
    {
      "cell_type": "code",
      "source": [
        "class TransformerBlock(Layer):\n",
        "    def __init__(self, embed_dim, num_heads, ff_dim, rate=0.1):\n",
        "        super(TransformerBlock, self).__init__()\n",
        "        self.att = MultiHeadAttention(num_heads=num_heads, key_dim=embed_dim)\n",
        "        self.ffn = Sequential(\n",
        "            [Dense(ff_dim, activation=\"relu\"),\n",
        "             Dense(embed_dim),]\n",
        "        )\n",
        "        self.layernorm1 = LayerNormalization(epsilon=1e-6)\n",
        "        self.layernorm2 = LayerNormalization(epsilon=1e-6)\n",
        "        self.dropout1 = Dropout(rate)\n",
        "        self.dropout2 = Dropout(rate)\n",
        "\n",
        "    def call(self, inputs, training):\n",
        "        attn_output = self.att(inputs, inputs)\n",
        "        attn_output = self.dropout1(attn_output, training=training)\n",
        "        out1 = self.layernorm1(inputs + attn_output)\n",
        "        ffn_output = self.ffn(out1)\n",
        "        ffn_output = self.dropout2(ffn_output, training=training)\n",
        "        return self.layernorm2(out1 + ffn_output)"
      ],
      "metadata": {
        "id": "iVT0-4v5kpQX"
      },
      "execution_count": 207,
      "outputs": []
    },
    {
      "cell_type": "code",
      "source": [
        "class TokenAndPositionEmbedding(Layer):\n",
        "    def __init__(self, maxlen, vocab_size, embed_dim):\n",
        "        super(TokenAndPositionEmbedding, self).__init__()\n",
        "        self.token_emb = Embedding(input_dim=vocab_size, output_dim=embed_dim)\n",
        "        self.pos_emb = Embedding(input_dim=maxlen, output_dim=embed_dim)\n",
        "\n",
        "    def call(self, x):\n",
        "        maxlen = tf.shape(x)[-1]\n",
        "        positions = tf.range(start=0, limit=maxlen, delta=1)\n",
        "        positions = self.pos_emb(positions)\n",
        "        x = self.token_emb(x)\n",
        "        return x + positions"
      ],
      "metadata": {
        "id": "WhZitN-Jkx_v"
      },
      "execution_count": 208,
      "outputs": []
    },
    {
      "cell_type": "markdown",
      "source": [
        "Loading Dataset"
      ],
      "metadata": {
        "id": "s_9xdlYnEZN5"
      }
    },
    {
      "cell_type": "code",
      "source": [
        "reliable=pd.read_csv('/content/drive/MyDrive/relaible.csv')\n",
        "\n",
        "reliable['ns_label'].value_counts()\n",
        "#reliable.columns"
      ],
      "metadata": {
        "colab": {
          "base_uri": "https://localhost:8080/"
        },
        "id": "2lbGtfcNnqrt",
        "outputId": "b97b2393-bfcc-47fd-c282-99d5afcf592a"
      },
      "execution_count": 209,
      "outputs": [
        {
          "output_type": "stream",
          "name": "stderr",
          "text": [
            "<ipython-input-209-c905bc801622>:1: DtypeWarning: Columns (7,8,9,10,11,12,13,14) have mixed types. Specify dtype option on import or set low_memory=False.\n",
            "  reliable=pd.read_csv('/content/drive/MyDrive/relaible.csv')\n"
          ]
        },
        {
          "output_type": "execute_result",
          "data": {
            "text/plain": [
              "reliable    217279\n",
              "Name: ns_label, dtype: int64"
            ]
          },
          "metadata": {},
          "execution_count": 209
        }
      ]
    },
    {
      "cell_type": "code",
      "source": [
        "unreliable=pd.read_csv('/content/drive/MyDrive/unrelaible.csv')\n",
        "\n",
        "unreliable['ns_label'].value_counts()\n",
        "#unreliable.columns"
      ],
      "metadata": {
        "colab": {
          "base_uri": "https://localhost:8080/"
        },
        "id": "2pyalz-woUND",
        "outputId": "eab0a3e7-9c9d-4855-e307-ae41c03d2af3"
      },
      "execution_count": 210,
      "outputs": [
        {
          "output_type": "stream",
          "name": "stderr",
          "text": [
            "<ipython-input-210-6b20aee5d955>:1: DtypeWarning: Columns (7,8,9,10,11,12,13,14,58) have mixed types. Specify dtype option on import or set low_memory=False.\n",
            "  unreliable=pd.read_csv('/content/drive/MyDrive/unrelaible.csv')\n"
          ]
        },
        {
          "output_type": "execute_result",
          "data": {
            "text/plain": [
              "unreliable    26639\n",
              "Name: ns_label, dtype: int64"
            ]
          },
          "metadata": {},
          "execution_count": 210
        }
      ]
    },
    {
      "cell_type": "markdown",
      "source": [
        "Removing Empty Tweets"
      ],
      "metadata": {
        "id": "kyQnm21cEezU"
      }
    },
    {
      "cell_type": "code",
      "source": [
        "empty_r_index = [index for index, token in enumerate (reliable.token.tolist()) if str(token).strip()==\"\"]"
      ],
      "metadata": {
        "id": "yw0bPXtOo0v9"
      },
      "execution_count": 211,
      "outputs": []
    },
    {
      "cell_type": "code",
      "source": [
        "reliable.iloc[empty_r_index]"
      ],
      "metadata": {
        "colab": {
          "base_uri": "https://localhost:8080/",
          "height": 160
        },
        "id": "lD7wKvp4pEKo",
        "outputId": "85406d16-974d-46d5-b31f-97e2d7210209"
      },
      "execution_count": 212,
      "outputs": [
        {
          "output_type": "execute_result",
          "data": {
            "text/plain": [
              "Empty DataFrame\n",
              "Columns: [Unnamed: 0, tweetid, userid, screen_name, date, lang, location, place_id, place_url, place_type, place_name, place_full_name, place_country_code, place_country, place_bounding_box, text, extended, coord, reply_userid, reply_screen, reply_statusid, tweet_type, friends_count, listed_count, followers_count, favourites_count, statuses_count, verified, hashtag, urls_list, profile_pic_url, profile_banner_url, display_name, date_first_tweet, account_creation_date, rt_urls_list, mentionid, mentionsn, rt_screen, rt_userid, rt_text, rt_hashtag, rt_qtd_count, rt_rt_count, rt_reply_count, rt_fav_count, rt_tweetid, rt_location, qtd_screen, qtd_userid, qtd_text, qtd_hashtag, qtd_qtd_count, qtd_rt_count, qtd_reply_count, qtd_fav_count, qtd_tweetid, qtd_urls_list, qtd_location, sent_vader, token, media_urls, rt_media_urls, q_media_urls, corrected_tweet_type, ns_label, ns_url, class_label]\n",
              "Index: []\n",
              "\n",
              "[0 rows x 68 columns]"
            ],
            "text/html": [
              "\n",
              "\n",
              "  <div id=\"df-54441e3d-c33e-4ed0-8fca-dd74d7cadbea\">\n",
              "    <div class=\"colab-df-container\">\n",
              "      <div>\n",
              "<style scoped>\n",
              "    .dataframe tbody tr th:only-of-type {\n",
              "        vertical-align: middle;\n",
              "    }\n",
              "\n",
              "    .dataframe tbody tr th {\n",
              "        vertical-align: top;\n",
              "    }\n",
              "\n",
              "    .dataframe thead th {\n",
              "        text-align: right;\n",
              "    }\n",
              "</style>\n",
              "<table border=\"1\" class=\"dataframe\">\n",
              "  <thead>\n",
              "    <tr style=\"text-align: right;\">\n",
              "      <th></th>\n",
              "      <th>Unnamed: 0</th>\n",
              "      <th>tweetid</th>\n",
              "      <th>userid</th>\n",
              "      <th>screen_name</th>\n",
              "      <th>date</th>\n",
              "      <th>lang</th>\n",
              "      <th>location</th>\n",
              "      <th>place_id</th>\n",
              "      <th>place_url</th>\n",
              "      <th>place_type</th>\n",
              "      <th>...</th>\n",
              "      <th>qtd_location</th>\n",
              "      <th>sent_vader</th>\n",
              "      <th>token</th>\n",
              "      <th>media_urls</th>\n",
              "      <th>rt_media_urls</th>\n",
              "      <th>q_media_urls</th>\n",
              "      <th>corrected_tweet_type</th>\n",
              "      <th>ns_label</th>\n",
              "      <th>ns_url</th>\n",
              "      <th>class_label</th>\n",
              "    </tr>\n",
              "  </thead>\n",
              "  <tbody>\n",
              "  </tbody>\n",
              "</table>\n",
              "<p>0 rows × 68 columns</p>\n",
              "</div>\n",
              "      <button class=\"colab-df-convert\" onclick=\"convertToInteractive('df-54441e3d-c33e-4ed0-8fca-dd74d7cadbea')\"\n",
              "              title=\"Convert this dataframe to an interactive table.\"\n",
              "              style=\"display:none;\">\n",
              "\n",
              "  <svg xmlns=\"http://www.w3.org/2000/svg\" height=\"24px\"viewBox=\"0 0 24 24\"\n",
              "       width=\"24px\">\n",
              "    <path d=\"M0 0h24v24H0V0z\" fill=\"none\"/>\n",
              "    <path d=\"M18.56 5.44l.94 2.06.94-2.06 2.06-.94-2.06-.94-.94-2.06-.94 2.06-2.06.94zm-11 1L8.5 8.5l.94-2.06 2.06-.94-2.06-.94L8.5 2.5l-.94 2.06-2.06.94zm10 10l.94 2.06.94-2.06 2.06-.94-2.06-.94-.94-2.06-.94 2.06-2.06.94z\"/><path d=\"M17.41 7.96l-1.37-1.37c-.4-.4-.92-.59-1.43-.59-.52 0-1.04.2-1.43.59L10.3 9.45l-7.72 7.72c-.78.78-.78 2.05 0 2.83L4 21.41c.39.39.9.59 1.41.59.51 0 1.02-.2 1.41-.59l7.78-7.78 2.81-2.81c.8-.78.8-2.07 0-2.86zM5.41 20L4 18.59l7.72-7.72 1.47 1.35L5.41 20z\"/>\n",
              "  </svg>\n",
              "      </button>\n",
              "\n",
              "\n",
              "\n",
              "    <div id=\"df-cc47567a-9fa4-46cd-a020-a4faf2045c8d\">\n",
              "      <button class=\"colab-df-quickchart\" onclick=\"quickchart('df-cc47567a-9fa4-46cd-a020-a4faf2045c8d')\"\n",
              "              title=\"Suggest charts.\"\n",
              "              style=\"display:none;\">\n",
              "\n",
              "<svg xmlns=\"http://www.w3.org/2000/svg\" height=\"24px\"viewBox=\"0 0 24 24\"\n",
              "     width=\"24px\">\n",
              "    <g>\n",
              "        <path d=\"M19 3H5c-1.1 0-2 .9-2 2v14c0 1.1.9 2 2 2h14c1.1 0 2-.9 2-2V5c0-1.1-.9-2-2-2zM9 17H7v-7h2v7zm4 0h-2V7h2v10zm4 0h-2v-4h2v4z\"/>\n",
              "    </g>\n",
              "</svg>\n",
              "      </button>\n",
              "    </div>\n",
              "\n",
              "<style>\n",
              "  .colab-df-quickchart {\n",
              "    background-color: #E8F0FE;\n",
              "    border: none;\n",
              "    border-radius: 50%;\n",
              "    cursor: pointer;\n",
              "    display: none;\n",
              "    fill: #1967D2;\n",
              "    height: 32px;\n",
              "    padding: 0 0 0 0;\n",
              "    width: 32px;\n",
              "  }\n",
              "\n",
              "  .colab-df-quickchart:hover {\n",
              "    background-color: #E2EBFA;\n",
              "    box-shadow: 0px 1px 2px rgba(60, 64, 67, 0.3), 0px 1px 3px 1px rgba(60, 64, 67, 0.15);\n",
              "    fill: #174EA6;\n",
              "  }\n",
              "\n",
              "  [theme=dark] .colab-df-quickchart {\n",
              "    background-color: #3B4455;\n",
              "    fill: #D2E3FC;\n",
              "  }\n",
              "\n",
              "  [theme=dark] .colab-df-quickchart:hover {\n",
              "    background-color: #434B5C;\n",
              "    box-shadow: 0px 1px 3px 1px rgba(0, 0, 0, 0.15);\n",
              "    filter: drop-shadow(0px 1px 2px rgba(0, 0, 0, 0.3));\n",
              "    fill: #FFFFFF;\n",
              "  }\n",
              "</style>\n",
              "\n",
              "    <script>\n",
              "      async function quickchart(key) {\n",
              "        const containerElement = document.querySelector('#' + key);\n",
              "        const charts = await google.colab.kernel.invokeFunction(\n",
              "            'suggestCharts', [key], {});\n",
              "      }\n",
              "    </script>\n",
              "\n",
              "      <script>\n",
              "\n",
              "function displayQuickchartButton(domScope) {\n",
              "  let quickchartButtonEl =\n",
              "    domScope.querySelector('#df-cc47567a-9fa4-46cd-a020-a4faf2045c8d button.colab-df-quickchart');\n",
              "  quickchartButtonEl.style.display =\n",
              "    google.colab.kernel.accessAllowed ? 'block' : 'none';\n",
              "}\n",
              "\n",
              "        displayQuickchartButton(document);\n",
              "      </script>\n",
              "      <style>\n",
              "    .colab-df-container {\n",
              "      display:flex;\n",
              "      flex-wrap:wrap;\n",
              "      gap: 12px;\n",
              "    }\n",
              "\n",
              "    .colab-df-convert {\n",
              "      background-color: #E8F0FE;\n",
              "      border: none;\n",
              "      border-radius: 50%;\n",
              "      cursor: pointer;\n",
              "      display: none;\n",
              "      fill: #1967D2;\n",
              "      height: 32px;\n",
              "      padding: 0 0 0 0;\n",
              "      width: 32px;\n",
              "    }\n",
              "\n",
              "    .colab-df-convert:hover {\n",
              "      background-color: #E2EBFA;\n",
              "      box-shadow: 0px 1px 2px rgba(60, 64, 67, 0.3), 0px 1px 3px 1px rgba(60, 64, 67, 0.15);\n",
              "      fill: #174EA6;\n",
              "    }\n",
              "\n",
              "    [theme=dark] .colab-df-convert {\n",
              "      background-color: #3B4455;\n",
              "      fill: #D2E3FC;\n",
              "    }\n",
              "\n",
              "    [theme=dark] .colab-df-convert:hover {\n",
              "      background-color: #434B5C;\n",
              "      box-shadow: 0px 1px 3px 1px rgba(0, 0, 0, 0.15);\n",
              "      filter: drop-shadow(0px 1px 2px rgba(0, 0, 0, 0.3));\n",
              "      fill: #FFFFFF;\n",
              "    }\n",
              "  </style>\n",
              "\n",
              "      <script>\n",
              "        const buttonEl =\n",
              "          document.querySelector('#df-54441e3d-c33e-4ed0-8fca-dd74d7cadbea button.colab-df-convert');\n",
              "        buttonEl.style.display =\n",
              "          google.colab.kernel.accessAllowed ? 'block' : 'none';\n",
              "\n",
              "        async function convertToInteractive(key) {\n",
              "          const element = document.querySelector('#df-54441e3d-c33e-4ed0-8fca-dd74d7cadbea');\n",
              "          const dataTable =\n",
              "            await google.colab.kernel.invokeFunction('convertToInteractive',\n",
              "                                                     [key], {});\n",
              "          if (!dataTable) return;\n",
              "\n",
              "          const docLinkHtml = 'Like what you see? Visit the ' +\n",
              "            '<a target=\"_blank\" href=https://colab.research.google.com/notebooks/data_table.ipynb>data table notebook</a>'\n",
              "            + ' to learn more about interactive tables.';\n",
              "          element.innerHTML = '';\n",
              "          dataTable['output_type'] = 'display_data';\n",
              "          await google.colab.output.renderOutput(dataTable, element);\n",
              "          const docLink = document.createElement('div');\n",
              "          docLink.innerHTML = docLinkHtml;\n",
              "          element.appendChild(docLink);\n",
              "        }\n",
              "      </script>\n",
              "    </div>\n",
              "  </div>\n"
            ]
          },
          "metadata": {},
          "execution_count": 212
        }
      ]
    },
    {
      "cell_type": "code",
      "source": [
        "empty_r_index = [index for index, token in enumerate (unreliable.token.tolist()) if str(token).strip()==\"\"]"
      ],
      "metadata": {
        "id": "qAnwgidLo6AD"
      },
      "execution_count": 213,
      "outputs": []
    },
    {
      "cell_type": "code",
      "source": [
        "\n",
        "unreliable.iloc[empty_r_index]"
      ],
      "metadata": {
        "colab": {
          "base_uri": "https://localhost:8080/",
          "height": 160
        },
        "id": "ARqGqu1Oo87B",
        "outputId": "134b5dfc-43f4-4eda-d82a-0c45add7c02d"
      },
      "execution_count": 214,
      "outputs": [
        {
          "output_type": "execute_result",
          "data": {
            "text/plain": [
              "Empty DataFrame\n",
              "Columns: [Unnamed: 0, tweetid, userid, screen_name, date, lang, location, place_id, place_url, place_type, place_name, place_full_name, place_country_code, place_country, place_bounding_box, text, extended, coord, reply_userid, reply_screen, reply_statusid, tweet_type, friends_count, listed_count, followers_count, favourites_count, statuses_count, verified, hashtag, urls_list, profile_pic_url, profile_banner_url, display_name, date_first_tweet, account_creation_date, rt_urls_list, mentionid, mentionsn, rt_screen, rt_userid, rt_text, rt_hashtag, rt_qtd_count, rt_rt_count, rt_reply_count, rt_fav_count, rt_tweetid, rt_location, qtd_screen, qtd_userid, qtd_text, qtd_hashtag, qtd_qtd_count, qtd_rt_count, qtd_reply_count, qtd_fav_count, qtd_tweetid, qtd_urls_list, qtd_location, sent_vader, token, media_urls, rt_media_urls, q_media_urls, corrected_tweet_type, ns_label, ns_url, class_label]\n",
              "Index: []\n",
              "\n",
              "[0 rows x 68 columns]"
            ],
            "text/html": [
              "\n",
              "\n",
              "  <div id=\"df-30316c73-b60c-459a-9195-5dc2eae0723f\">\n",
              "    <div class=\"colab-df-container\">\n",
              "      <div>\n",
              "<style scoped>\n",
              "    .dataframe tbody tr th:only-of-type {\n",
              "        vertical-align: middle;\n",
              "    }\n",
              "\n",
              "    .dataframe tbody tr th {\n",
              "        vertical-align: top;\n",
              "    }\n",
              "\n",
              "    .dataframe thead th {\n",
              "        text-align: right;\n",
              "    }\n",
              "</style>\n",
              "<table border=\"1\" class=\"dataframe\">\n",
              "  <thead>\n",
              "    <tr style=\"text-align: right;\">\n",
              "      <th></th>\n",
              "      <th>Unnamed: 0</th>\n",
              "      <th>tweetid</th>\n",
              "      <th>userid</th>\n",
              "      <th>screen_name</th>\n",
              "      <th>date</th>\n",
              "      <th>lang</th>\n",
              "      <th>location</th>\n",
              "      <th>place_id</th>\n",
              "      <th>place_url</th>\n",
              "      <th>place_type</th>\n",
              "      <th>...</th>\n",
              "      <th>qtd_location</th>\n",
              "      <th>sent_vader</th>\n",
              "      <th>token</th>\n",
              "      <th>media_urls</th>\n",
              "      <th>rt_media_urls</th>\n",
              "      <th>q_media_urls</th>\n",
              "      <th>corrected_tweet_type</th>\n",
              "      <th>ns_label</th>\n",
              "      <th>ns_url</th>\n",
              "      <th>class_label</th>\n",
              "    </tr>\n",
              "  </thead>\n",
              "  <tbody>\n",
              "  </tbody>\n",
              "</table>\n",
              "<p>0 rows × 68 columns</p>\n",
              "</div>\n",
              "      <button class=\"colab-df-convert\" onclick=\"convertToInteractive('df-30316c73-b60c-459a-9195-5dc2eae0723f')\"\n",
              "              title=\"Convert this dataframe to an interactive table.\"\n",
              "              style=\"display:none;\">\n",
              "\n",
              "  <svg xmlns=\"http://www.w3.org/2000/svg\" height=\"24px\"viewBox=\"0 0 24 24\"\n",
              "       width=\"24px\">\n",
              "    <path d=\"M0 0h24v24H0V0z\" fill=\"none\"/>\n",
              "    <path d=\"M18.56 5.44l.94 2.06.94-2.06 2.06-.94-2.06-.94-.94-2.06-.94 2.06-2.06.94zm-11 1L8.5 8.5l.94-2.06 2.06-.94-2.06-.94L8.5 2.5l-.94 2.06-2.06.94zm10 10l.94 2.06.94-2.06 2.06-.94-2.06-.94-.94-2.06-.94 2.06-2.06.94z\"/><path d=\"M17.41 7.96l-1.37-1.37c-.4-.4-.92-.59-1.43-.59-.52 0-1.04.2-1.43.59L10.3 9.45l-7.72 7.72c-.78.78-.78 2.05 0 2.83L4 21.41c.39.39.9.59 1.41.59.51 0 1.02-.2 1.41-.59l7.78-7.78 2.81-2.81c.8-.78.8-2.07 0-2.86zM5.41 20L4 18.59l7.72-7.72 1.47 1.35L5.41 20z\"/>\n",
              "  </svg>\n",
              "      </button>\n",
              "\n",
              "\n",
              "\n",
              "    <div id=\"df-a1538283-f6eb-4557-a69c-dbe403e29d07\">\n",
              "      <button class=\"colab-df-quickchart\" onclick=\"quickchart('df-a1538283-f6eb-4557-a69c-dbe403e29d07')\"\n",
              "              title=\"Suggest charts.\"\n",
              "              style=\"display:none;\">\n",
              "\n",
              "<svg xmlns=\"http://www.w3.org/2000/svg\" height=\"24px\"viewBox=\"0 0 24 24\"\n",
              "     width=\"24px\">\n",
              "    <g>\n",
              "        <path d=\"M19 3H5c-1.1 0-2 .9-2 2v14c0 1.1.9 2 2 2h14c1.1 0 2-.9 2-2V5c0-1.1-.9-2-2-2zM9 17H7v-7h2v7zm4 0h-2V7h2v10zm4 0h-2v-4h2v4z\"/>\n",
              "    </g>\n",
              "</svg>\n",
              "      </button>\n",
              "    </div>\n",
              "\n",
              "<style>\n",
              "  .colab-df-quickchart {\n",
              "    background-color: #E8F0FE;\n",
              "    border: none;\n",
              "    border-radius: 50%;\n",
              "    cursor: pointer;\n",
              "    display: none;\n",
              "    fill: #1967D2;\n",
              "    height: 32px;\n",
              "    padding: 0 0 0 0;\n",
              "    width: 32px;\n",
              "  }\n",
              "\n",
              "  .colab-df-quickchart:hover {\n",
              "    background-color: #E2EBFA;\n",
              "    box-shadow: 0px 1px 2px rgba(60, 64, 67, 0.3), 0px 1px 3px 1px rgba(60, 64, 67, 0.15);\n",
              "    fill: #174EA6;\n",
              "  }\n",
              "\n",
              "  [theme=dark] .colab-df-quickchart {\n",
              "    background-color: #3B4455;\n",
              "    fill: #D2E3FC;\n",
              "  }\n",
              "\n",
              "  [theme=dark] .colab-df-quickchart:hover {\n",
              "    background-color: #434B5C;\n",
              "    box-shadow: 0px 1px 3px 1px rgba(0, 0, 0, 0.15);\n",
              "    filter: drop-shadow(0px 1px 2px rgba(0, 0, 0, 0.3));\n",
              "    fill: #FFFFFF;\n",
              "  }\n",
              "</style>\n",
              "\n",
              "    <script>\n",
              "      async function quickchart(key) {\n",
              "        const containerElement = document.querySelector('#' + key);\n",
              "        const charts = await google.colab.kernel.invokeFunction(\n",
              "            'suggestCharts', [key], {});\n",
              "      }\n",
              "    </script>\n",
              "\n",
              "      <script>\n",
              "\n",
              "function displayQuickchartButton(domScope) {\n",
              "  let quickchartButtonEl =\n",
              "    domScope.querySelector('#df-a1538283-f6eb-4557-a69c-dbe403e29d07 button.colab-df-quickchart');\n",
              "  quickchartButtonEl.style.display =\n",
              "    google.colab.kernel.accessAllowed ? 'block' : 'none';\n",
              "}\n",
              "\n",
              "        displayQuickchartButton(document);\n",
              "      </script>\n",
              "      <style>\n",
              "    .colab-df-container {\n",
              "      display:flex;\n",
              "      flex-wrap:wrap;\n",
              "      gap: 12px;\n",
              "    }\n",
              "\n",
              "    .colab-df-convert {\n",
              "      background-color: #E8F0FE;\n",
              "      border: none;\n",
              "      border-radius: 50%;\n",
              "      cursor: pointer;\n",
              "      display: none;\n",
              "      fill: #1967D2;\n",
              "      height: 32px;\n",
              "      padding: 0 0 0 0;\n",
              "      width: 32px;\n",
              "    }\n",
              "\n",
              "    .colab-df-convert:hover {\n",
              "      background-color: #E2EBFA;\n",
              "      box-shadow: 0px 1px 2px rgba(60, 64, 67, 0.3), 0px 1px 3px 1px rgba(60, 64, 67, 0.15);\n",
              "      fill: #174EA6;\n",
              "    }\n",
              "\n",
              "    [theme=dark] .colab-df-convert {\n",
              "      background-color: #3B4455;\n",
              "      fill: #D2E3FC;\n",
              "    }\n",
              "\n",
              "    [theme=dark] .colab-df-convert:hover {\n",
              "      background-color: #434B5C;\n",
              "      box-shadow: 0px 1px 3px 1px rgba(0, 0, 0, 0.15);\n",
              "      filter: drop-shadow(0px 1px 2px rgba(0, 0, 0, 0.3));\n",
              "      fill: #FFFFFF;\n",
              "    }\n",
              "  </style>\n",
              "\n",
              "      <script>\n",
              "        const buttonEl =\n",
              "          document.querySelector('#df-30316c73-b60c-459a-9195-5dc2eae0723f button.colab-df-convert');\n",
              "        buttonEl.style.display =\n",
              "          google.colab.kernel.accessAllowed ? 'block' : 'none';\n",
              "\n",
              "        async function convertToInteractive(key) {\n",
              "          const element = document.querySelector('#df-30316c73-b60c-459a-9195-5dc2eae0723f');\n",
              "          const dataTable =\n",
              "            await google.colab.kernel.invokeFunction('convertToInteractive',\n",
              "                                                     [key], {});\n",
              "          if (!dataTable) return;\n",
              "\n",
              "          const docLinkHtml = 'Like what you see? Visit the ' +\n",
              "            '<a target=\"_blank\" href=https://colab.research.google.com/notebooks/data_table.ipynb>data table notebook</a>'\n",
              "            + ' to learn more about interactive tables.';\n",
              "          element.innerHTML = '';\n",
              "          dataTable['output_type'] = 'display_data';\n",
              "          await google.colab.output.renderOutput(dataTable, element);\n",
              "          const docLink = document.createElement('div');\n",
              "          docLink.innerHTML = docLinkHtml;\n",
              "          element.appendChild(docLink);\n",
              "        }\n",
              "      </script>\n",
              "    </div>\n",
              "  </div>\n"
            ]
          },
          "metadata": {},
          "execution_count": 214
        }
      ]
    },
    {
      "cell_type": "markdown",
      "source": [
        "Making a single datafram having both labels"
      ],
      "metadata": {
        "id": "GuIKb55rEwjc"
      }
    },
    {
      "cell_type": "code",
      "source": [
        "rel=reliable[['token','class_label']]"
      ],
      "metadata": {
        "id": "dhC6YudcpLT4"
      },
      "execution_count": 215,
      "outputs": []
    },
    {
      "cell_type": "code",
      "source": [
        "unrel=unreliable[['token','class_label']]"
      ],
      "metadata": {
        "id": "3vnUihzgpPgh"
      },
      "execution_count": 216,
      "outputs": []
    },
    {
      "cell_type": "code",
      "source": [
        "data=rel.append(unrel, ignore_index=True)"
      ],
      "metadata": {
        "colab": {
          "base_uri": "https://localhost:8080/"
        },
        "id": "Qqv7Mi1UpSDo",
        "outputId": "59d02169-f7f7-4b75-e443-711bfc1ceefc"
      },
      "execution_count": 217,
      "outputs": [
        {
          "output_type": "stream",
          "name": "stderr",
          "text": [
            "<ipython-input-217-6a724b2df84a>:1: FutureWarning: The frame.append method is deprecated and will be removed from pandas in a future version. Use pandas.concat instead.\n",
            "  data=rel.append(unrel, ignore_index=True)\n"
          ]
        }
      ]
    },
    {
      "cell_type": "markdown",
      "source": [
        "Removing Emojis from tweets\n"
      ],
      "metadata": {
        "id": "H7sU38_GErPx"
      }
    },
    {
      "cell_type": "code",
      "source": [
        "emoji_pattern = re.compile(\"[\"\n",
        "                           u\"\\U0001F600-\\U0001F64F\"  # emoticons\n",
        "                           u\"\\U0001F300-\\U0001F5FF\"  # symbols & pictographs\n",
        "                           u\"\\U0001F680-\\U0001F6FF\"  # transport & map symbols\n",
        "                           u\"\\U0001F1E0-\\U0001F1FF\"  # flags (iOS)\n",
        "                           \"]\")\n",
        "\n",
        "data['token'] = data['token'].str.replace(emoji_pattern, '')\n",
        "\n"
      ],
      "metadata": {
        "id": "R-sQK7VKpY97"
      },
      "execution_count": 218,
      "outputs": []
    },
    {
      "cell_type": "code",
      "source": [
        "data[\"token\"] = data[\"token\"].str.replace('[#,@,&,$,%]', '')"
      ],
      "metadata": {
        "colab": {
          "base_uri": "https://localhost:8080/"
        },
        "id": "QPneHfi0pcd0",
        "outputId": "d2262c9c-078a-4f84-d062-8940ec244748"
      },
      "execution_count": 219,
      "outputs": [
        {
          "output_type": "stream",
          "name": "stderr",
          "text": [
            "<ipython-input-219-2bd24efbf75f>:1: FutureWarning: The default value of regex will change from True to False in a future version.\n",
            "  data[\"token\"] = data[\"token\"].str.replace('[#,@,&,$,%]', '')\n"
          ]
        }
      ]
    },
    {
      "cell_type": "code",
      "source": [
        "data = data[data['token'].notnull()]"
      ],
      "metadata": {
        "id": "VWMQGrlPplaP"
      },
      "execution_count": 220,
      "outputs": []
    },
    {
      "cell_type": "code",
      "source": [
        "y=data['class_label'].values"
      ],
      "metadata": {
        "id": "L1Tf0dRApn8f"
      },
      "execution_count": 221,
      "outputs": []
    },
    {
      "cell_type": "code",
      "source": [
        "x=[d.split() for d in data['token'].tolist()]"
      ],
      "metadata": {
        "id": "4FKU8dSmpyZX"
      },
      "execution_count": 222,
      "outputs": []
    },
    {
      "cell_type": "markdown",
      "source": [
        "Tokenization"
      ],
      "metadata": {
        "id": "0rbqn5bGFGCX"
      }
    },
    {
      "cell_type": "code",
      "source": [
        "tokenizer =Tokenizer()\n",
        "tokenizer.fit_on_texts(x)"
      ],
      "metadata": {
        "id": "WgoaRthfrYyA"
      },
      "execution_count": 223,
      "outputs": []
    },
    {
      "cell_type": "code",
      "source": [
        "x = tokenizer.texts_to_sequences(x)"
      ],
      "metadata": {
        "id": "AR_Xm98krahr"
      },
      "execution_count": 224,
      "outputs": []
    },
    {
      "cell_type": "markdown",
      "source": [
        "Train Validation and Test split 80 10 10"
      ],
      "metadata": {
        "id": "Q-NzUeRLFJf8"
      }
    },
    {
      "cell_type": "code",
      "source": [
        "x_train, x_test, y_train, y_test = train_test_split(x, y, test_size=0.2, random_state=1)\n",
        "\n",
        "x_train, x_val, y_train, y_val = train_test_split(x_train, y_train, test_size=0.25, random_state=1) # 0.25 x 0.8 = 0.2"
      ],
      "metadata": {
        "id": "ubV9f6DQx-jF"
      },
      "execution_count": 225,
      "outputs": []
    },
    {
      "cell_type": "code",
      "source": [
        "# x_train, x_test ,y_train,y_test = train_test_split(x,y)"
      ],
      "metadata": {
        "id": "GWbro7kjpzn2"
      },
      "execution_count": 42,
      "outputs": []
    },
    {
      "cell_type": "code",
      "source": [
        "nos= np.array( [len (a) for a in x])\n",
        "len (nos [ nos >76] )\n",
        "# checking max length tweets count"
      ],
      "metadata": {
        "colab": {
          "base_uri": "https://localhost:8080/"
        },
        "id": "mExrdwmc8wXB",
        "outputId": "32b77d45-3d31-4b77-eb24-47273a50a49d"
      },
      "execution_count": 226,
      "outputs": [
        {
          "output_type": "execute_result",
          "data": {
            "text/plain": [
              "3"
            ]
          },
          "metadata": {},
          "execution_count": 226
        }
      ]
    },
    {
      "cell_type": "code",
      "source": [
        "vocab_size = 28275\n",
        "maxlen = 77\n",
        "\n",
        "\n",
        "print(len(x_train), \"Training sequences\")\n",
        "print(len(x_test), \"Validation sequences\")"
      ],
      "metadata": {
        "colab": {
          "base_uri": "https://localhost:8080/"
        },
        "id": "NENcvcd3kzfe",
        "outputId": "0945e9ec-a637-451c-a3a9-32c89ead0308"
      },
      "execution_count": 227,
      "outputs": [
        {
          "output_type": "stream",
          "name": "stdout",
          "text": [
            "146343 Training sequences\n",
            "48782 Validation sequences\n"
          ]
        }
      ]
    },
    {
      "cell_type": "code",
      "source": [
        "x_train = tf.keras.preprocessing.sequence.pad_sequences(x_train, maxlen=maxlen)\n",
        "x_val = tf.keras.preprocessing.sequence.pad_sequences(x_val, maxlen=maxlen)\n"
      ],
      "metadata": {
        "id": "7Fc7rixkldmw"
      },
      "execution_count": 228,
      "outputs": []
    },
    {
      "cell_type": "code",
      "source": [
        "x_test= tf.keras.preprocessing.sequence.pad_sequences(x_test, maxlen=maxlen)"
      ],
      "metadata": {
        "id": "ksKBdCCP6oi-"
      },
      "execution_count": 229,
      "outputs": []
    },
    {
      "cell_type": "code",
      "source": [
        "embed_dim = 32  # Embedding size for each token\n",
        "num_heads = 2  # Number of attention heads\n",
        "ff_dim = 32  # Hidden layer size in feed forward network inside transformer\n",
        "\n",
        "inputs = Input(shape=(maxlen,))\n",
        "embedding_layer = TokenAndPositionEmbedding(maxlen, vocab_size, embed_dim)\n",
        "x = embedding_layer(inputs)\n",
        "transformer_block = TransformerBlock(embed_dim, num_heads, ff_dim)\n",
        "x = transformer_block(x)\n",
        "x = GlobalAveragePooling1D()(x)\n",
        "x = Dropout(0.1)(x)\n",
        "x = Dense(20, activation=\"relu\")(x)\n",
        "x = Dropout(0.1)(x)\n",
        "outputs = Dense(1, activation=\"sigmoid\")(x)\n",
        "\n",
        "model = Model(inputs=inputs, outputs=outputs)"
      ],
      "metadata": {
        "id": "DeBhbigOlgf6"
      },
      "execution_count": 230,
      "outputs": []
    },
    {
      "cell_type": "code",
      "source": [
        "model.summary()"
      ],
      "metadata": {
        "colab": {
          "base_uri": "https://localhost:8080/"
        },
        "id": "E7pkLKuRs-26",
        "outputId": "82b77435-3ffd-48f9-9baa-101c1c22ce4c"
      },
      "execution_count": 231,
      "outputs": [
        {
          "output_type": "stream",
          "name": "stdout",
          "text": [
            "Model: \"model_4\"\n",
            "_________________________________________________________________\n",
            " Layer (type)                Output Shape              Param #   \n",
            "=================================================================\n",
            " input_5 (InputLayer)        [(None, 77)]              0         \n",
            "                                                                 \n",
            " token_and_position_embeddin  (None, 77, 32)           907264    \n",
            " g_4 (TokenAndPositionEmbedd                                     \n",
            " ing)                                                            \n",
            "                                                                 \n",
            " transformer_block_4 (Transf  (None, 77, 32)           10656     \n",
            " ormerBlock)                                                     \n",
            "                                                                 \n",
            " global_average_pooling1d_4   (None, 32)               0         \n",
            " (GlobalAveragePooling1D)                                        \n",
            "                                                                 \n",
            " dropout_18 (Dropout)        (None, 32)                0         \n",
            "                                                                 \n",
            " dense_18 (Dense)            (None, 20)                660       \n",
            "                                                                 \n",
            " dropout_19 (Dropout)        (None, 20)                0         \n",
            "                                                                 \n",
            " dense_19 (Dense)            (None, 1)                 21        \n",
            "                                                                 \n",
            "=================================================================\n",
            "Total params: 918,601\n",
            "Trainable params: 918,601\n",
            "Non-trainable params: 0\n",
            "_________________________________________________________________\n"
          ]
        }
      ]
    },
    {
      "cell_type": "code",
      "source": [
        "from tensorflow.keras.callbacks import ModelCheckpoint\n",
        "checkpoint = ModelCheckpoint('best_model.h5', save_best_only=True, monitor='val_accuracy', mode='max', verbose=1)\n"
      ],
      "metadata": {
        "id": "4oSou8nE9cxI"
      },
      "execution_count": 232,
      "outputs": []
    },
    {
      "cell_type": "code",
      "source": [
        "model.compile(optimizer=\"adam\", loss=\"binary_crossentropy\", metrics=[\"accuracy\"])\n",
        "\n",
        "history = model.fit(x_train, y_train,\n",
        "                    batch_size=64, epochs=4,\n",
        "                    validation_data=(x_val, y_val),callbacks=[checkpoint]\n",
        "                   )"
      ],
      "metadata": {
        "colab": {
          "base_uri": "https://localhost:8080/"
        },
        "id": "XU2Gg0bvlj2k",
        "outputId": "a5b3c032-ee0a-4b36-9e10-bde4076db217"
      },
      "execution_count": 233,
      "outputs": [
        {
          "output_type": "stream",
          "name": "stdout",
          "text": [
            "Epoch 1/4\n",
            "2287/2287 [==============================] - ETA: 0s - loss: 0.0647 - accuracy: 0.9797\n",
            "Epoch 1: val_accuracy improved from -inf to 0.99670, saving model to best_model.h5\n",
            "2287/2287 [==============================] - 120s 51ms/step - loss: 0.0647 - accuracy: 0.9797 - val_loss: 0.0121 - val_accuracy: 0.9967\n",
            "Epoch 2/4\n",
            "2287/2287 [==============================] - ETA: 0s - loss: 0.0055 - accuracy: 0.9986\n",
            "Epoch 2: val_accuracy improved from 0.99670 to 0.99836, saving model to best_model.h5\n",
            "2287/2287 [==============================] - 105s 46ms/step - loss: 0.0055 - accuracy: 0.9986 - val_loss: 0.0106 - val_accuracy: 0.9984\n",
            "Epoch 3/4\n",
            "2287/2287 [==============================] - ETA: 0s - loss: 0.0016 - accuracy: 0.9996\n",
            "Epoch 3: val_accuracy improved from 0.99836 to 0.99900, saving model to best_model.h5\n",
            "2287/2287 [==============================] - 105s 46ms/step - loss: 0.0016 - accuracy: 0.9996 - val_loss: 0.0091 - val_accuracy: 0.9990\n",
            "Epoch 4/4\n",
            "2286/2287 [============================>.] - ETA: 0s - loss: 8.4892e-04 - accuracy: 0.9997\n",
            "Epoch 4: val_accuracy improved from 0.99900 to 0.99902, saving model to best_model.h5\n",
            "2287/2287 [==============================] - 110s 48ms/step - loss: 8.4869e-04 - accuracy: 0.9997 - val_loss: 0.0084 - val_accuracy: 0.9990\n"
          ]
        }
      ]
    },
    {
      "cell_type": "code",
      "source": [
        "model.save_weights(\"tesing.h5\")"
      ],
      "metadata": {
        "id": "2f9S8jjemNnM"
      },
      "execution_count": 118,
      "outputs": []
    },
    {
      "cell_type": "code",
      "source": [
        "y_pred=(model.predict(x_test) >=0.5).astype(int)"
      ],
      "metadata": {
        "colab": {
          "base_uri": "https://localhost:8080/"
        },
        "id": "Ysax2Q-g5uyu",
        "outputId": "5ac0cf88-d221-41fb-d448-189db14a240e"
      },
      "execution_count": 234,
      "outputs": [
        {
          "output_type": "stream",
          "name": "stdout",
          "text": [
            "1525/1525 [==============================] - 13s 8ms/step\n"
          ]
        }
      ]
    },
    {
      "cell_type": "code",
      "source": [
        "results = model.evaluate(x_test, y_test, verbose=2)\n",
        "\n",
        "for name, value in zip(model.metrics_names, results):\n",
        "    print(\"%s: %.3f\" % (name, value))"
      ],
      "metadata": {
        "colab": {
          "base_uri": "https://localhost:8080/"
        },
        "id": "GxmDV71QmQ_6",
        "outputId": "3a70c3b0-c1c5-4429-85b1-afacbc0dc269"
      },
      "execution_count": 235,
      "outputs": [
        {
          "output_type": "stream",
          "name": "stdout",
          "text": [
            "1525/1525 - 12s - loss: 0.0154 - accuracy: 0.9984 - 12s/epoch - 8ms/step\n",
            "loss: 0.015\n",
            "accuracy: 0.998\n"
          ]
        }
      ]
    },
    {
      "cell_type": "code",
      "source": [
        "from sklearn.metrics import classification_report\n",
        "\n",
        "# y_pred = np.argmax(y_pred, axis=1)\n",
        "print(classification_report(y_test, y_pred))\n"
      ],
      "metadata": {
        "colab": {
          "base_uri": "https://localhost:8080/"
        },
        "id": "KCEJU8oy7RSX",
        "outputId": "60070f56-9111-4f05-c3d4-953f36bb7f03"
      },
      "execution_count": 236,
      "outputs": [
        {
          "output_type": "stream",
          "name": "stdout",
          "text": [
            "              precision    recall  f1-score   support\n",
            "\n",
            "           0       1.00      0.99      0.99      5342\n",
            "           1       1.00      1.00      1.00     43440\n",
            "\n",
            "    accuracy                           1.00     48782\n",
            "   macro avg       1.00      0.99      1.00     48782\n",
            "weighted avg       1.00      1.00      1.00     48782\n",
            "\n"
          ]
        }
      ]
    },
    {
      "cell_type": "code",
      "source": [
        "import seaborn as sns\n",
        "from sklearn.metrics import confusion_matrix\n",
        "# y_pred = np.argmax(y_pred, axis=1)\n",
        "cm = confusion_matrix(y_test, y_pred)\n",
        "f = sns.heatmap(cm, annot=True, fmt='d')"
      ],
      "metadata": {
        "colab": {
          "base_uri": "https://localhost:8080/",
          "height": 430
        },
        "id": "4Evo44aQ8At1",
        "outputId": "3f8dcdc5-3892-41e6-bf02-6e82ebcfd3ac"
      },
      "execution_count": 237,
      "outputs": [
        {
          "output_type": "display_data",
          "data": {
            "text/plain": [
              "<Figure size 640x480 with 2 Axes>"
            ],
            "image/png": "[encoded data removed]"
          },
          "metadata": {}
        }
      ]
    },
    {
      "cell_type": "code",
      "source": [
        "x = ['i got  vaccinated and i died'] # unrealiable tweet by me\n",
        "x = tokenizer.texts_to_sequences(x)\n",
        "x = pad_sequences(x, maxlen=maxlen)\n",
        "# Class 0 is fake/unrealiable tweets\n",
        "# Class 1 is real/realiable tweets"
      ],
      "metadata": {
        "id": "NGF5IG3-8BWG"
      },
      "execution_count": 238,
      "outputs": []
    },
    {
      "cell_type": "code",
      "source": [
        "(model.predict(x) >=0.5).astype(int)\n"
      ],
      "metadata": {
        "colab": {
          "base_uri": "https://localhost:8080/"
        },
        "id": "Gw_xQifm8Drb",
        "outputId": "08808f51-c15f-43f6-f55b-f4a3173ed48d"
      },
      "execution_count": 240,
      "outputs": [
        {
          "output_type": "stream",
          "name": "stdout",
          "text": [
            "1/1 [==============================] - 0s 16ms/step\n"
          ]
        },
        {
          "output_type": "execute_result",
          "data": {
            "text/plain": [
              "array([[0]])"
            ]
          },
          "metadata": {},
          "execution_count": 240
        }
      ]
    },
    {
      "cell_type": "code",
      "source": [
        "x = ['I got vaccinated'] # realiable tweet by me\n",
        "\n",
        "x = tokenizer.texts_to_sequences(x)\n",
        "x = pad_sequences(x, maxlen=maxlen)"
      ],
      "metadata": {
        "id": "9eheXIMaDW7B"
      },
      "execution_count": 241,
      "outputs": []
    },
    {
      "cell_type": "code",
      "source": [
        "(model.predict(x) >=0.5).astype(int)\n"
      ],
      "metadata": {
        "colab": {
          "base_uri": "https://localhost:8080/"
        },
        "id": "BZj3y3mumXDe",
        "outputId": "cc9a621f-b686-490f-d901-07c5c5e0f11d"
      },
      "execution_count": 242,
      "outputs": [
        {
          "output_type": "stream",
          "name": "stdout",
          "text": [
            "1/1 [==============================] - 0s 17ms/step\n"
          ]
        },
        {
          "output_type": "execute_result",
          "data": {
            "text/plain": [
              "array([[1]])"
            ]
          },
          "metadata": {},
          "execution_count": 242
        }
      ]
    },
    {
      "cell_type": "code",
      "source": [
        "#Verified source tweet https://twitter.com/MikeASperrazza/status/1683317759503998976\n",
        "x = ['The next young person who dies unexplained, and they’ve taken a COVID-19 vaccine, it’s more likely than not COVID-19 vaccine is the cause of death']\n",
        "\n",
        "x = tokenizer.texts_to_sequences(x)\n",
        "x = pad_sequences(x, maxlen=maxlen)"
      ],
      "metadata": {
        "id": "p315rNAGPVSl"
      },
      "execution_count": 243,
      "outputs": []
    },
    {
      "cell_type": "code",
      "source": [
        "(model.predict(x) >=0.5).astype(int)\n"
      ],
      "metadata": {
        "colab": {
          "base_uri": "https://localhost:8080/"
        },
        "id": "3SzPpgeLPZSI",
        "outputId": "0704f0ba-90fb-4926-b6ff-efb77908fbf3"
      },
      "execution_count": 244,
      "outputs": [
        {
          "output_type": "stream",
          "name": "stdout",
          "text": [
            "1/1 [==============================] - 0s 16ms/step\n"
          ]
        },
        {
          "output_type": "execute_result",
          "data": {
            "text/plain": [
              "array([[1]])"
            ]
          },
          "metadata": {},
          "execution_count": 244
        }
      ]
    },
    {
      "cell_type": "code",
      "source": [],
      "metadata": {
        "id": "gZUMWekcQc64"
      },
      "execution_count": null,
      "outputs": []
    },
    {
      "cell_type": "code",
      "source": [
        "# Unverified Source tweet https://twitter.com/COVID19_disease/status/1683634912350601216\n",
        "x = [' BREAKING: Killer coronavirus outbreak fears as man, 28, gets struck down with MERS in Abu Dhabi - and doctors are baffled as to how he caught it']\n",
        "x = tokenizer.texts_to_sequences(x)\n",
        "x = pad_sequences(x, maxlen=maxlen)"
      ],
      "metadata": {
        "id": "kP-HCmlKQe9O"
      },
      "execution_count": 245,
      "outputs": []
    },
    {
      "cell_type": "code",
      "source": [
        "(model.predict(x) >=0.5).astype(int)\n"
      ],
      "metadata": {
        "colab": {
          "base_uri": "https://localhost:8080/"
        },
        "id": "mB_d96d7QjlY",
        "outputId": "65983224-84bc-4fd9-864f-cd8f471071ac"
      },
      "execution_count": 246,
      "outputs": [
        {
          "output_type": "stream",
          "name": "stdout",
          "text": [
            "1/1 [==============================] - 0s 16ms/step\n"
          ]
        },
        {
          "output_type": "execute_result",
          "data": {
            "text/plain": [
              "array([[0]])"
            ]
          },
          "metadata": {},
          "execution_count": 246
        }
      ]
    }
  ]
}